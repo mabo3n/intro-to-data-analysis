{
 "cells": [
  {
   "cell_type": "markdown",
   "metadata": {},
   "source": [
    "Before we get started, a couple of reminders to keep in mind when using iPython notebooks:\n",
    "\n",
    "- Remember that you can see from the left side of a code cell when it was last run if there is a number within the brackets.\n",
    "- When you start a new notebook session, make sure you run all of the cells up to the point where you last left off. Even if the output is still visible from when you ran the cells in your previous session, the kernel starts in a fresh state so you'll need to reload the data, etc. on a new session.\n",
    "- The previous point is useful to keep in mind if your answers do not match what is expected in the lesson's quizzes. Try reloading the data and run all of the processing steps one by one in order to make sure that you are working with the same variables and data that are at each quiz stage."
   ]
  },
  {
   "cell_type": "markdown",
   "metadata": {},
   "source": [
    "## Load Data from CSVs"
   ]
  },
  {
   "cell_type": "code",
   "execution_count": 1,
   "metadata": {},
   "outputs": [
    {
     "name": "stdout",
     "output_type": "stream",
     "text": [
      "{u'status': u'canceled', u'is_udacity': u'True', u'is_canceled': u'True', u'join_date': u'2014-11-10', u'account_key': u'448', u'cancel_date': u'2015-01-14', u'days_to_cancel': u'65'}\n",
      "{u'lessons_completed': u'0.0', u'num_courses_visited': u'1.0', u'total_minutes_visited': u'11.6793745', u'projects_completed': u'0.0', u'acct': u'0', u'utc_date': u'2015-01-09'}\n",
      "{u'lesson_key': u'3176718735', u'processing_state': u'EVALUATED', u'account_key': u'256', u'assigned_rating': u'UNGRADED', u'completion_date': u'2015-01-16', u'creation_date': u'2015-01-14'}\n"
     ]
    }
   ],
   "source": [
    "import unicodecsv\n",
    "\n",
    "def read_csv(filename):\n",
    "    with open(filename, 'rb') as f:\n",
    "        reader = unicodecsv.DictReader(f)\n",
    "        return list(reader)\n",
    "    \n",
    "enrollments = read_csv('enrollments.csv')\n",
    "daily_engagement = read_csv('daily_engagement.csv')\n",
    "#daily_engagement_full = read_csv('daily_engagement_full.csv')\n",
    "project_submissions = read_csv('project_submissions.csv')\n",
    "\n",
    "print enrollments[0]\n",
    "print daily_engagement[0]\n",
    "#print daily_engagement_full[0]\n",
    "print project_submissions[0]"
   ]
  },
  {
   "cell_type": "markdown",
   "metadata": {},
   "source": [
    "## Fixing Data Types"
   ]
  },
  {
   "cell_type": "code",
   "execution_count": 2,
   "metadata": {},
   "outputs": [],
   "source": [
    "from datetime import datetime as dt\n",
    "\n",
    "# Takes a date as a string, and returns a Python datetime object. \n",
    "# If there is no date given, returns None\n",
    "def parse_date(date):\n",
    "    if date == '':\n",
    "        return None\n",
    "    else:\n",
    "        return dt.strptime(date, '%Y-%m-%d')\n",
    "    \n",
    "# Takes a string which is either an empty string or represents an integer,\n",
    "# and returns an int or None.\n",
    "def parse_maybe_int(i):\n",
    "    if i == '':\n",
    "        return None\n",
    "    else:\n",
    "        return int(i)"
   ]
  },
  {
   "cell_type": "code",
   "execution_count": 3,
   "metadata": {},
   "outputs": [
    {
     "data": {
      "text/plain": [
       "{u'account_key': u'448',\n",
       " u'cancel_date': datetime.datetime(2015, 1, 14, 0, 0),\n",
       " u'days_to_cancel': 65,\n",
       " u'is_canceled': True,\n",
       " u'is_udacity': True,\n",
       " u'join_date': datetime.datetime(2014, 11, 10, 0, 0),\n",
       " u'status': u'canceled'}"
      ]
     },
     "execution_count": 3,
     "metadata": {},
     "output_type": "execute_result"
    }
   ],
   "source": [
    "# Clean up the data types in the enrollments table\n",
    "for enrollment in enrollments:\n",
    "    enrollment['cancel_date'] = parse_date(enrollment['cancel_date'])\n",
    "    enrollment['days_to_cancel'] = parse_maybe_int(enrollment['days_to_cancel'])\n",
    "    enrollment['is_canceled'] = enrollment['is_canceled'] == 'True'\n",
    "    enrollment['is_udacity'] = enrollment['is_udacity'] == 'True'\n",
    "    enrollment['join_date'] = parse_date(enrollment['join_date'])\n",
    "    \n",
    "enrollments[0]"
   ]
  },
  {
   "cell_type": "code",
   "execution_count": 4,
   "metadata": {},
   "outputs": [
    {
     "data": {
      "text/plain": [
       "{u'acct': u'0',\n",
       " u'lessons_completed': 0,\n",
       " u'num_courses_visited': 1,\n",
       " u'projects_completed': 0,\n",
       " u'total_minutes_visited': 11.6793745,\n",
       " u'utc_date': datetime.datetime(2015, 1, 9, 0, 0)}"
      ]
     },
     "execution_count": 4,
     "metadata": {},
     "output_type": "execute_result"
    }
   ],
   "source": [
    "# Clean up the data types in the engagement table\n",
    "for engagement_record in daily_engagement:\n",
    "    engagement_record['lessons_completed'] = int(float(engagement_record['lessons_completed']))\n",
    "    engagement_record['num_courses_visited'] = int(float(engagement_record['num_courses_visited']))\n",
    "    engagement_record['projects_completed'] = int(float(engagement_record['projects_completed']))\n",
    "    engagement_record['total_minutes_visited'] = float(engagement_record['total_minutes_visited'])\n",
    "    engagement_record['utc_date'] = parse_date(engagement_record['utc_date'])\n",
    "    \n",
    "daily_engagement[0]"
   ]
  },
  {
   "cell_type": "code",
   "execution_count": 5,
   "metadata": {},
   "outputs": [
    {
     "data": {
      "text/plain": [
       "{u'account_key': u'256',\n",
       " u'assigned_rating': u'UNGRADED',\n",
       " u'completion_date': datetime.datetime(2015, 1, 16, 0, 0),\n",
       " u'creation_date': datetime.datetime(2015, 1, 14, 0, 0),\n",
       " u'lesson_key': u'3176718735',\n",
       " u'processing_state': u'EVALUATED'}"
      ]
     },
     "execution_count": 5,
     "metadata": {},
     "output_type": "execute_result"
    }
   ],
   "source": [
    "# Clean up the data types in the submissions table\n",
    "for submission in project_submissions:\n",
    "    submission['completion_date'] = parse_date(submission['completion_date'])\n",
    "    submission['creation_date'] = parse_date(submission['creation_date'])\n",
    "\n",
    "project_submissions[0]"
   ]
  },
  {
   "cell_type": "markdown",
   "metadata": {},
   "source": [
    "## Raising questions about the data\n",
    "\n",
    "**Mine**\n",
    "1. Most visited courses (requires full engagement data)\n",
    "2. Active users over time\n",
    "3. Most productive day of the week (avg minutes / compl. projects / compl. lessons)\n",
    "4. How enrolled students differ from students that cancelled their enrollment, project-wise? (% of reject"
   ]
  },
  {
   "cell_type": "markdown",
   "metadata": {},
   "source": [
    "## Problems in the Data"
   ]
  },
  {
   "cell_type": "code",
   "execution_count": 6,
   "metadata": {},
   "outputs": [],
   "source": [
    "#####################################\n",
    "#                 3                 #\n",
    "#####################################\n",
    "\n",
    "## Rename the \"acct\" column in the daily_engagement table to \"account_key\".\n",
    "for engagement_record in daily_engagement:\n",
    "    engagement_record['account_key'] = engagement_record['acct']\n",
    "    del engagement_record['acct']    "
   ]
  },
  {
   "cell_type": "markdown",
   "metadata": {},
   "source": [
    "Note when running the above cells that we are actively changing the contents of our data variables. If you try to run these cells multiple times in the same session, an error will occur.\n",
    "\n",
    "## Investigating the Data"
   ]
  },
  {
   "cell_type": "code",
   "execution_count": 8,
   "metadata": {},
   "outputs": [],
   "source": [
    "def get_unique_students(data):\n",
    "    unique_students = set()\n",
    "    for entry in data:\n",
    "        unique_students.add(entry['account_key'])\n",
    "    return unique_students"
   ]
  },
  {
   "cell_type": "code",
   "execution_count": 9,
   "metadata": {},
   "outputs": [
    {
     "name": "stdout",
     "output_type": "stream",
     "text": [
      "total enrollment students: 1640 (unique = 1302 )\n",
      "total engagement students: 136240 (unique = 1237 )\n",
      "total project submitters: 3642 (unique = 743 )\n"
     ]
    }
   ],
   "source": [
    "#####################################\n",
    "#                 2                 #\n",
    "#####################################\n",
    "\n",
    "## Find the total number of rows and the number of unique students (account keys)\n",
    "## in each table.\n",
    "\n",
    "unique_enrolled_students = get_unique_students(enrollments)\n",
    "print 'total enrollment students:', len(enrollments), '(unique =', len(unique_enrolled_students), ')'\n",
    "\n",
    "unique_engagement_students = get_unique_students(daily_engagement)\n",
    "print 'total engagement students:', len(daily_engagement), '(unique =', len(unique_engagement_students), ')'\n",
    "\n",
    "unique_project_submitters = get_unique_students(project_submissions)\n",
    "print 'total project submitters:', len(project_submissions), '(unique =', len(unique_project_submitters), ')'\n"
   ]
  },
  {
   "cell_type": "code",
   "execution_count": 10,
   "metadata": {},
   "outputs": [
    {
     "data": {
      "text/plain": [
       "u'0'"
      ]
     },
     "execution_count": 10,
     "metadata": {},
     "output_type": "execute_result"
    }
   ],
   "source": [
    "daily_engagement[0]['account_key']"
   ]
  },
  {
   "cell_type": "markdown",
   "metadata": {},
   "source": [
    "## Missing Engagement Records"
   ]
  },
  {
   "cell_type": "code",
   "execution_count": 13,
   "metadata": {},
   "outputs": [
    {
     "name": "stdout",
     "output_type": "stream",
     "text": [
      "{u'status': u'canceled', u'is_udacity': False, u'is_canceled': True, u'join_date': datetime.datetime(2014, 11, 12, 0, 0), u'account_key': u'1219', u'cancel_date': datetime.datetime(2014, 11, 12, 0, 0), u'days_to_cancel': 0}\n"
     ]
    }
   ],
   "source": [
    "#####################################\n",
    "#                 4                 #\n",
    "#####################################\n",
    "\n",
    "## Find any one student enrollments where the student is missing from the daily engagement table.\n",
    "## Output that enrollment.\n",
    "no_engagement_enrollments = []\n",
    "for enrollment in enrollments:\n",
    "    studentId = enrollment['account_key']\n",
    "    if studentId not in unique_engagement_students:\n",
    "        no_engagement_enrollments.append(enrollment)\n",
    "\n",
    "print no_engagement_enrollments[0]"
   ]
  },
  {
   "cell_type": "markdown",
   "metadata": {},
   "source": [
    "## Checking for More Problem Records"
   ]
  },
  {
   "cell_type": "code",
   "execution_count": 14,
   "metadata": {},
   "outputs": [
    {
     "data": {
      "text/plain": [
       "[{u'account_key': u'1304',\n",
       "  u'cancel_date': datetime.datetime(2015, 3, 10, 0, 0),\n",
       "  u'days_to_cancel': 59,\n",
       "  u'is_canceled': True,\n",
       "  u'is_udacity': True,\n",
       "  u'join_date': datetime.datetime(2015, 1, 10, 0, 0),\n",
       "  u'status': u'canceled'},\n",
       " {u'account_key': u'1304',\n",
       "  u'cancel_date': datetime.datetime(2015, 6, 17, 0, 0),\n",
       "  u'days_to_cancel': 99,\n",
       "  u'is_canceled': True,\n",
       "  u'is_udacity': True,\n",
       "  u'join_date': datetime.datetime(2015, 3, 10, 0, 0),\n",
       "  u'status': u'canceled'},\n",
       " {u'account_key': u'1101',\n",
       "  u'cancel_date': None,\n",
       "  u'days_to_cancel': None,\n",
       "  u'is_canceled': False,\n",
       "  u'is_udacity': True,\n",
       "  u'join_date': datetime.datetime(2015, 2, 25, 0, 0),\n",
       "  u'status': u'current'}]"
      ]
     },
     "execution_count": 14,
     "metadata": {},
     "output_type": "execute_result"
    }
   ],
   "source": [
    "#####################################\n",
    "#                 5                 #\n",
    "#####################################\n",
    "\n",
    "## Find the number of surprising data points (enrollments missing from\n",
    "## the engagement table) that remain, if any.\n",
    "\n",
    "ghost_enrollments = []\n",
    "for enrollment in no_engagement_enrollments:\n",
    "    if enrollment['cancel_date'] != enrollment['join_date'] or enrollment['days_to_cancel'] != 0:\n",
    "        ghost_enrollments.append(enrollment)\n",
    "    \n",
    "#len(ghost_enrollments) # 3\n",
    "ghost_enrollments"
   ]
  },
  {
   "cell_type": "markdown",
   "metadata": {},
   "source": [
    "## Tracking Down the Remaining Problems"
   ]
  },
  {
   "cell_type": "code",
   "execution_count": 15,
   "metadata": {},
   "outputs": [
    {
     "data": {
      "text/plain": [
       "6"
      ]
     },
     "execution_count": 15,
     "metadata": {},
     "output_type": "execute_result"
    }
   ],
   "source": [
    "# Create a set of the account keys for all Udacity test accounts\n",
    "udacity_test_account_keys = set()\n",
    "for enrollment in enrollments:\n",
    "    if enrollment['is_udacity']:\n",
    "        udacity_test_account_keys.add(enrollment['account_key'])\n",
    "len(udacity_test_account_keys)"
   ]
  },
  {
   "cell_type": "code",
   "execution_count": 17,
   "metadata": {},
   "outputs": [],
   "source": [
    "# Given some data with an account_key field, removes any records \n",
    "# corresponding to Udacity test accounts\n",
    "def remove_udacity_accounts(data):\n",
    "    non_udacity_data = []\n",
    "    for data_point in data:\n",
    "        if data_point['account_key'] not in udacity_test_account_keys:\n",
    "            non_udacity_data.append(data_point)\n",
    "    return non_udacity_data"
   ]
  },
  {
   "cell_type": "code",
   "execution_count": 20,
   "metadata": {},
   "outputs": [
    {
     "name": "stdout",
     "output_type": "stream",
     "text": [
      "non_udacity\t //all\n",
      "1622 \t\t// 1640\n",
      "135656 \t\t// 136240\n",
      "3634 \t\t// 3642\n"
     ]
    }
   ],
   "source": [
    "# Remove Udacity test accounts from all three tables\n",
    "non_udacity_enrollments = remove_udacity_accounts(enrollments)\n",
    "non_udacity_engagement = remove_udacity_accounts(daily_engagement)\n",
    "non_udacity_submissions = remove_udacity_accounts(project_submissions)\n",
    "\n",
    "print 'non_udacity\\t // all'\n",
    "print len(non_udacity_enrollments), '\\t\\t//', len(enrollments)\n",
    "print len(non_udacity_engagement), '\\t\\t//', len(daily_engagement)\n",
    "print len(non_udacity_submissions), '\\t\\t//', len(project_submissions)"
   ]
  },
  {
   "cell_type": "markdown",
   "metadata": {},
   "source": [
    "## Refining the Question"
   ]
  },
  {
   "cell_type": "code",
   "execution_count": 21,
   "metadata": {},
   "outputs": [
    {
     "data": {
      "text/plain": [
       "995"
      ]
     },
     "execution_count": 21,
     "metadata": {},
     "output_type": "execute_result"
    }
   ],
   "source": [
    "#####################################\n",
    "#                 6                 #\n",
    "#####################################\n",
    "\n",
    "## Create a dictionary named paid_students containing all students who either\n",
    "## haven't canceled yet or who remained enrolled for more than 7 days. The keys\n",
    "## should be account keys, and the values should be the date the student enrolled.\n",
    "\n",
    "# {6718273:2018-1-1, \n",
    "# 2193123:2017-12-31,\n",
    "# 9182931:2018-06-06,\n",
    "# ...}\n",
    "\n",
    "paid_students = {}\n",
    "\n",
    "for enrollment in non_udacity_enrollments:\n",
    "    if enrollment['status'] != 'canceled' or enrollment['days_to_cancel'] > 7:\n",
    "        account_key = enrollment['account_key']\n",
    "        enrollment_date = enrollment['join_date']\n",
    "        \n",
    "        # Restrict to only the most recent student's enrollment\n",
    "        if account_key not in paid_students or enrollment_date > paid_students[account_key]:\n",
    "            paid_students[account_key] = enrollment_date\n",
    "    \n",
    "len(paid_students)"
   ]
  },
  {
   "cell_type": "markdown",
   "metadata": {},
   "source": [
    "## Getting Data from First Week"
   ]
  },
  {
   "cell_type": "markdown",
   "metadata": {},
   "source": [
    "#### Important: enrollments' account_keys ARE NOT UNIQUE!"
   ]
  },
  {
   "cell_type": "code",
   "execution_count": 22,
   "metadata": {},
   "outputs": [
    {
     "name": "stdout",
     "output_type": "stream",
     "text": [
      "1622\n",
      "1622\n",
      "1296\n"
     ]
    }
   ],
   "source": [
    "enrollments_account_keys = [enr['account_key'] for enr in non_udacity_enrollments]\n",
    "print len(non_udacity_enrollments)\n",
    "print len(enrollments_account_keys)\n",
    "print len(set(enrollments_account_keys))\n",
    "\n",
    "    "
   ]
  },
  {
   "cell_type": "code",
   "execution_count": 23,
   "metadata": {},
   "outputs": [],
   "source": [
    "# Takes a student's join date and the date of a specific engagement record,\n",
    "# and returns True if that engagement record happened within one week\n",
    "# of the student joining.\n",
    "def within_one_week(join_date, engagement_date):\n",
    "    time_delta = engagement_date - join_date\n",
    "    return time_delta.days < 7 and time_delta.days >= 0"
   ]
  },
  {
   "cell_type": "code",
   "execution_count": 24,
   "metadata": {},
   "outputs": [
    {
     "data": {
      "text/plain": [
       "{'account_key': u'0',\n",
       " u'lessons_completed': 0,\n",
       " u'num_courses_visited': 2,\n",
       " u'projects_completed': 0,\n",
       " u'total_minutes_visited': 37.2848873333,\n",
       " u'utc_date': datetime.datetime(2015, 1, 10, 0, 0)}"
      ]
     },
     "execution_count": 24,
     "metadata": {},
     "output_type": "execute_result"
    }
   ],
   "source": [
    "daily_engagement[1]"
   ]
  },
  {
   "cell_type": "code",
   "execution_count": 25,
   "metadata": {},
   "outputs": [
    {
     "data": {
      "text/plain": [
       "{u'account_key': u'1304',\n",
       " u'cancel_date': datetime.datetime(2015, 3, 10, 0, 0),\n",
       " u'days_to_cancel': 59,\n",
       " u'is_canceled': True,\n",
       " u'is_udacity': True,\n",
       " u'join_date': datetime.datetime(2015, 1, 10, 0, 0),\n",
       " u'status': u'canceled'}"
      ]
     },
     "execution_count": 25,
     "metadata": {},
     "output_type": "execute_result"
    }
   ],
   "source": [
    "ghost_enrollments[0]"
   ]
  },
  {
   "cell_type": "code",
   "execution_count": 26,
   "metadata": {},
   "outputs": [
    {
     "data": {
      "text/plain": [
       "6919"
      ]
     },
     "execution_count": 26,
     "metadata": {},
     "output_type": "execute_result"
    }
   ],
   "source": [
    "#####################################\n",
    "#                 7                 #\n",
    "#####################################\n",
    "\n",
    "## Create a list of rows from the engagement table including only rows where\n",
    "## the student is one of the paid students you just found, and the date is within\n",
    "## one week of the student's join date.\n",
    "paid_engagement_in_first_week = []\n",
    "\n",
    "for engagement in non_udacity_engagement:\n",
    "    if engagement['account_key'] in paid_students:\n",
    "        join_date = paid_students[engagement['account_key']]\n",
    "        if within_one_week(join_date, engagement['utc_date']):\n",
    "            paid_engagement_in_first_week.append(engagement)\n",
    "len(paid_engagement_in_first_week)"
   ]
  },
  {
   "cell_type": "code",
   "execution_count": 27,
   "metadata": {},
   "outputs": [],
   "source": [
    "# Declaring variables used in the course's answer. Just in case they get mentioned later\n",
    "def remove_free_trial_cancels(data):\n",
    "    new_data = []\n",
    "    for data_point in data:\n",
    "        if data_point['account_key'] in paid_students: \n",
    "            new_data.append(data_point) \n",
    "    return new_data\n",
    "\n",
    "paid_enrollments = remove_free_trial_cancels(non_udacity_enrollments)\n",
    "paid_engagement = remove_free_trial_cancels(non_udacity_engagement)\n",
    "paid_submissions = remove_free_trial_cancels(non_udacity_submissions)"
   ]
  },
  {
   "cell_type": "code",
   "execution_count": 38,
   "metadata": {},
   "outputs": [],
   "source": [
    "# LESSON 20\n",
    "for engagement_record in paid_engagement:\n",
    "    if engagement_record['num_courses_visited'] > 0:\n",
    "        engagement_record['has_visited'] = 1\n",
    "    else:\n",
    "        engagement_record['has_visited'] = 0"
   ]
  },
  {
   "cell_type": "markdown",
   "metadata": {},
   "source": [
    "## Exploring Student Engagement"
   ]
  },
  {
   "cell_type": "code",
   "execution_count": 28,
   "metadata": {},
   "outputs": [],
   "source": [
    "from collections import defaultdict\n",
    "\n",
    "# Returns a list of dicts with 'key_name' values as keys and a list \n",
    "# of data entries with 'key_name' value == key as the value for each key\n",
    "def group_by_key(data, key_name):\n",
    "    grouped_data = defaultdict(list)\n",
    "    for data_entry in data:\n",
    "        group = data_entry[key_name]\n",
    "        grouped_data[group].append(data_entry)\n",
    "    return grouped_data"
   ]
  },
  {
   "cell_type": "code",
   "execution_count": 30,
   "metadata": {},
   "outputs": [],
   "source": [
    "# Create a dictionary of engagement grouped by student.\n",
    "# The keys are account keys, and the values are lists of engagement records.\n",
    "engagement_by_account = group_by_key(data=paid_engagement_in_first_week, key_name='account_key')"
   ]
  },
  {
   "cell_type": "code",
   "execution_count": 31,
   "metadata": {},
   "outputs": [],
   "source": [
    "def sum_grouped_items(grouped_data, field_name):\n",
    "    summed_data = {}\n",
    "    for key, data_points in grouped_data.iteritems():\n",
    "        total = 0\n",
    "        for data_entry in data_points:\n",
    "            total += data_entry[field_name]\n",
    "        summed_data[key] = total\n",
    "    return summed_data\n",
    "        \n",
    "\n",
    "# Create a dictionary with the total minutes each student spent in the classroom during the first week.\n",
    "# The keys are account keys, and the values are numbers (total minutes)\n",
    "total_minutes_by_account = sum_grouped_items(engagement_by_account, 'total_minutes_visited')\n"
   ]
  },
  {
   "cell_type": "code",
   "execution_count": 74,
   "metadata": {},
   "outputs": [
    {
     "name": "stdout",
     "output_type": "stream",
     "text": [
      "Populating the interactive namespace from numpy and matplotlib\n",
      "Mean: 306.70832675342825\n",
      "Standard deviation: 412.99693340852957\n",
      "Minimum: 0.0\n",
      "Maximum: 3564.7332644989997\n"
     ]
    },
    {
     "data": {
      "image/png": "[encoded data removed]",
      "text/plain": [
       "<matplotlib.figure.Figure at 0x159e0ba8>"
      ]
     },
     "metadata": {},
     "output_type": "display_data"
    }
   ],
   "source": [
    "%pylab inline\n",
    "\n",
    "import matplotlib.pyplot as plt\n",
    "import numpy as np\n",
    "\n",
    "def describe_data(data_entries):\n",
    "    print 'Mean:', np.mean(data_entries)\n",
    "    print 'Standard deviation:', np.std(data_entries)\n",
    "    print 'Minimum:', np.min(data_entries)\n",
    "    print 'Maximum:', np.max(data_entries)\n",
    "    plt.hist(data_entries)\n",
    "\n",
    "# Summarize the data about minutes spent in the classroom\n",
    "total_minutes = describe_data(total_minutes_by_account.values())"
   ]
  },
  {
   "cell_type": "markdown",
   "metadata": {},
   "source": [
    "## Debugging Data Analysis Code"
   ]
  },
  {
   "cell_type": "code",
   "execution_count": 33,
   "metadata": {},
   "outputs": [
    {
     "data": {
      "text/plain": [
       "{}"
      ]
     },
     "execution_count": 33,
     "metadata": {},
     "output_type": "execute_result"
    }
   ],
   "source": [
    "#####################################\n",
    "#                 8                 #\n",
    "#####################################\n",
    "\n",
    "## Go through a similar process as before to see if there is a problem.\n",
    "## Locate at least one surprising piece of data, output it, and take a look at it.\n",
    "\n",
    "max_minutes_outliers = \\\n",
    "{acc: minutes for acc, minutes in total_minutes_by_account.iteritems() if minutes >= 60*24*7}\n",
    "\n",
    "len(max_minutes_outliers) # 1\n",
    "\n",
    "max_minutes_outliers"
   ]
  },
  {
   "cell_type": "code",
   "execution_count": 34,
   "metadata": {},
   "outputs": [
    {
     "data": {
      "text/plain": [
       "'429'"
      ]
     },
     "execution_count": 34,
     "metadata": {},
     "output_type": "execute_result"
    }
   ],
   "source": [
    "str(paid_enrollments[0]['account_key'])"
   ]
  },
  {
   "cell_type": "code",
   "execution_count": 35,
   "metadata": {},
   "outputs": [],
   "source": [
    "paid_enrollments[0] # Thats a list of dicts\n",
    "\n",
    "max_minutes_outlier_enrollments = \\\n",
    "[enr for enr in paid_enrollments if str(enr['account_key']) == '108']"
   ]
  },
  {
   "cell_type": "code",
   "execution_count": 36,
   "metadata": {},
   "outputs": [
    {
     "data": {
      "text/plain": [
       "[{u'account_key': u'108',\n",
       "  u'cancel_date': datetime.datetime(2015, 4, 20, 0, 0),\n",
       "  u'days_to_cancel': 103,\n",
       "  u'is_canceled': True,\n",
       "  u'is_udacity': False,\n",
       "  u'join_date': datetime.datetime(2015, 1, 7, 0, 0),\n",
       "  u'status': u'canceled'},\n",
       " {u'account_key': u'108',\n",
       "  u'cancel_date': datetime.datetime(2015, 5, 14, 0, 0),\n",
       "  u'days_to_cancel': 24,\n",
       "  u'is_canceled': True,\n",
       "  u'is_udacity': False,\n",
       "  u'join_date': datetime.datetime(2015, 4, 20, 0, 0),\n",
       "  u'status': u'canceled'}]"
      ]
     },
     "execution_count": 36,
     "metadata": {},
     "output_type": "execute_result"
    }
   ],
   "source": [
    "max_minutes_outlier_enrollments"
   ]
  },
  {
   "cell_type": "markdown",
   "metadata": {},
   "source": [
    "## Lessons Completed in First Week"
   ]
  },
  {
   "cell_type": "code",
   "execution_count": 40,
   "metadata": {},
   "outputs": [],
   "source": [
    "#####################################\n",
    "#                 9                 #\n",
    "#####################################\n",
    "\n",
    "## Adapt the code above to find the mean, standard deviation, minimum, and maximum for\n",
    "## the number of lessons completed by each student during the first week. Try creating\n",
    "## one or more functions to re-use the code above.\n",
    "\n",
    "total_lessons_by_account = \\\n",
    "sum_grouped_items(grouped_data=engagement_by_account, field_name='lessons_completed')"
   ]
  },
  {
   "cell_type": "code",
   "execution_count": 41,
   "metadata": {
    "collapsed": true
   },
   "outputs": [
    {
     "data": {
      "text/plain": [
       "{u'0': 1,\n",
       " u'1': 0,\n",
       " u'10': 0,\n",
       " u'100': 1,\n",
       " u'1000': 1,\n",
       " u'1001': 0,\n",
       " u'1002': 0,\n",
       " u'1007': 0,\n",
       " u'1009': 0,\n",
       " u'101': 0,\n",
       " u'1011': 0,\n",
       " u'1013': 0,\n",
       " u'1014': 10,\n",
       " u'1015': 0,\n",
       " u'1019': 0,\n",
       " u'102': 0,\n",
       " u'1022': 0,\n",
       " u'1028': 0,\n",
       " u'1029': 0,\n",
       " u'103': 7,\n",
       " u'1030': 2,\n",
       " u'1031': 0,\n",
       " u'1032': 0,\n",
       " u'1033': 9,\n",
       " u'1036': 0,\n",
       " u'1038': 0,\n",
       " u'104': 2,\n",
       " u'1040': 0,\n",
       " u'1042': 0,\n",
       " u'1048': 0,\n",
       " u'1049': 0,\n",
       " u'105': 0,\n",
       " u'1050': 1,\n",
       " u'1052': 0,\n",
       " u'1053': 0,\n",
       " u'1054': 0,\n",
       " u'1055': 0,\n",
       " u'1056': 5,\n",
       " u'1058': 0,\n",
       " u'106': 0,\n",
       " u'1060': 1,\n",
       " u'1062': 0,\n",
       " u'1066': 0,\n",
       " u'1067': 0,\n",
       " u'107': 1,\n",
       " u'1070': 16,\n",
       " u'1071': 0,\n",
       " u'1072': 0,\n",
       " u'1073': 0,\n",
       " u'1074': 0,\n",
       " u'1075': 0,\n",
       " u'1077': 0,\n",
       " u'108': 0,\n",
       " u'1080': 0,\n",
       " u'1081': 0,\n",
       " u'1082': 1,\n",
       " u'1087': 1,\n",
       " u'1088': 0,\n",
       " u'1089': 0,\n",
       " u'109': 3,\n",
       " u'1090': 0,\n",
       " u'1094': 1,\n",
       " u'1095': 0,\n",
       " u'1096': 7,\n",
       " u'1098': 1,\n",
       " u'1099': 1,\n",
       " u'11': 0,\n",
       " u'110': 9,\n",
       " u'1102': 0,\n",
       " u'1103': 0,\n",
       " u'1107': 0,\n",
       " u'111': 1,\n",
       " u'1110': 0,\n",
       " u'1111': 0,\n",
       " u'1113': 0,\n",
       " u'1115': 0,\n",
       " u'1117': 0,\n",
       " u'1118': 1,\n",
       " u'112': 2,\n",
       " u'1121': 0,\n",
       " u'1123': 0,\n",
       " u'1124': 0,\n",
       " u'1128': 0,\n",
       " u'113': 0,\n",
       " u'1130': 0,\n",
       " u'1131': 5,\n",
       " u'1136': 0,\n",
       " u'1139': 1,\n",
       " u'114': 1,\n",
       " u'1140': 1,\n",
       " u'1142': 0,\n",
       " u'1143': 1,\n",
       " u'1144': 0,\n",
       " u'1146': 0,\n",
       " u'1147': 0,\n",
       " u'1149': 3,\n",
       " u'115': 0,\n",
       " u'1150': 3,\n",
       " u'1151': 0,\n",
       " u'1153': 2,\n",
       " u'1154': 0,\n",
       " u'1157': 0,\n",
       " u'116': 5,\n",
       " u'1160': 0,\n",
       " u'1161': 0,\n",
       " u'1163': 0,\n",
       " u'1167': 3,\n",
       " u'117': 1,\n",
       " u'1170': 0,\n",
       " u'1173': 0,\n",
       " u'1174': 0,\n",
       " u'1175': 0,\n",
       " u'1176': 4,\n",
       " u'1177': 1,\n",
       " u'1178': 0,\n",
       " u'118': 5,\n",
       " u'1181': 0,\n",
       " u'1182': 1,\n",
       " u'1183': 1,\n",
       " u'1185': 1,\n",
       " u'1188': 2,\n",
       " u'1189': 0,\n",
       " u'119': 0,\n",
       " u'1194': 0,\n",
       " u'1198': 0,\n",
       " u'1199': 0,\n",
       " u'12': 0,\n",
       " u'120': 3,\n",
       " u'1200': 1,\n",
       " u'1201': 2,\n",
       " u'1202': 1,\n",
       " u'1204': 2,\n",
       " u'1205': 0,\n",
       " u'1206': 0,\n",
       " u'1207': 0,\n",
       " u'1208': 1,\n",
       " u'1209': 2,\n",
       " u'121': 3,\n",
       " u'1210': 1,\n",
       " u'1211': 0,\n",
       " u'1212': 0,\n",
       " u'1214': 0,\n",
       " u'1215': 6,\n",
       " u'1216': 1,\n",
       " u'1217': 1,\n",
       " u'122': 7,\n",
       " u'1220': 0,\n",
       " u'1224': 0,\n",
       " u'1226': 0,\n",
       " u'1227': 0,\n",
       " u'1228': 0,\n",
       " u'123': 0,\n",
       " u'1231': 8,\n",
       " u'1235': 1,\n",
       " u'1236': 0,\n",
       " u'124': 0,\n",
       " u'1242': 0,\n",
       " u'1243': 0,\n",
       " u'1244': 0,\n",
       " u'1247': 0,\n",
       " u'1248': 0,\n",
       " u'1249': 0,\n",
       " u'125': 9,\n",
       " u'1250': 0,\n",
       " u'1251': 0,\n",
       " u'1253': 0,\n",
       " u'1254': 0,\n",
       " u'1257': 0,\n",
       " u'1259': 0,\n",
       " u'126': 0,\n",
       " u'1260': 0,\n",
       " u'1262': 0,\n",
       " u'1263': 1,\n",
       " u'1264': 0,\n",
       " u'1265': 0,\n",
       " u'1266': 0,\n",
       " u'1267': 0,\n",
       " u'1268': 0,\n",
       " u'1269': 0,\n",
       " u'127': 1,\n",
       " u'1274': 7,\n",
       " u'1276': 0,\n",
       " u'1277': 0,\n",
       " u'1278': 0,\n",
       " u'128': 5,\n",
       " u'1282': 1,\n",
       " u'1285': 0,\n",
       " u'1287': 0,\n",
       " u'1289': 0,\n",
       " u'129': 1,\n",
       " u'1290': 0,\n",
       " u'1292': 0,\n",
       " u'1298': 2,\n",
       " u'1299': 0,\n",
       " u'13': 10,\n",
       " u'130': 0,\n",
       " u'1302': 0,\n",
       " u'1303': 0,\n",
       " u'1305': 0,\n",
       " u'131': 0,\n",
       " u'132': 1,\n",
       " u'133': 0,\n",
       " u'134': 6,\n",
       " u'135': 2,\n",
       " u'136': 0,\n",
       " u'137': 3,\n",
       " u'138': 0,\n",
       " u'139': 1,\n",
       " u'14': 0,\n",
       " u'140': 3,\n",
       " u'141': 2,\n",
       " u'142': 1,\n",
       " u'143': 1,\n",
       " u'144': 1,\n",
       " u'145': 4,\n",
       " u'146': 0,\n",
       " u'147': 0,\n",
       " u'148': 0,\n",
       " u'149': 0,\n",
       " u'15': 1,\n",
       " u'150': 1,\n",
       " u'151': 7,\n",
       " u'152': 4,\n",
       " u'153': 1,\n",
       " u'154': 4,\n",
       " u'155': 0,\n",
       " u'156': 2,\n",
       " u'157': 0,\n",
       " u'158': 0,\n",
       " u'159': 0,\n",
       " u'16': 1,\n",
       " u'160': 2,\n",
       " u'161': 3,\n",
       " u'162': 3,\n",
       " u'163': 20,\n",
       " u'164': 15,\n",
       " u'165': 2,\n",
       " u'166': 0,\n",
       " u'167': 0,\n",
       " u'168': 0,\n",
       " u'169': 0,\n",
       " u'17': 1,\n",
       " u'170': 2,\n",
       " u'171': 5,\n",
       " u'172': 4,\n",
       " u'173': 0,\n",
       " u'174': 1,\n",
       " u'175': 10,\n",
       " u'176': 6,\n",
       " u'177': 3,\n",
       " u'178': 6,\n",
       " u'179': 5,\n",
       " u'18': 0,\n",
       " u'180': 0,\n",
       " u'181': 3,\n",
       " u'182': 1,\n",
       " u'183': 2,\n",
       " u'184': 2,\n",
       " u'185': 0,\n",
       " u'186': 2,\n",
       " u'187': 2,\n",
       " u'188': 0,\n",
       " u'189': 7,\n",
       " u'19': 0,\n",
       " u'190': 0,\n",
       " u'191': 0,\n",
       " u'192': 4,\n",
       " u'193': 0,\n",
       " u'194': 1,\n",
       " u'195': 4,\n",
       " u'196': 1,\n",
       " u'197': 9,\n",
       " u'198': 1,\n",
       " u'199': 6,\n",
       " u'2': 0,\n",
       " u'20': 2,\n",
       " u'200': 1,\n",
       " u'201': 0,\n",
       " u'202': 0,\n",
       " u'203': 2,\n",
       " u'204': 2,\n",
       " u'205': 1,\n",
       " u'206': 3,\n",
       " u'207': 0,\n",
       " u'208': 1,\n",
       " u'209': 0,\n",
       " u'21': 12,\n",
       " u'210': 1,\n",
       " u'211': 5,\n",
       " u'212': 0,\n",
       " u'213': 6,\n",
       " u'214': 0,\n",
       " u'215': 1,\n",
       " u'216': 1,\n",
       " u'217': 0,\n",
       " u'218': 20,\n",
       " u'219': 2,\n",
       " u'22': 5,\n",
       " u'220': 4,\n",
       " u'221': 1,\n",
       " u'222': 1,\n",
       " u'223': 0,\n",
       " u'224': 0,\n",
       " u'225': 1,\n",
       " u'226': 3,\n",
       " u'227': 1,\n",
       " u'228': 3,\n",
       " u'229': 0,\n",
       " u'23': 6,\n",
       " u'230': 0,\n",
       " u'231': 0,\n",
       " u'232': 5,\n",
       " u'233': 1,\n",
       " u'234': 4,\n",
       " u'235': 0,\n",
       " u'236': 3,\n",
       " u'237': 2,\n",
       " u'238': 2,\n",
       " u'239': 0,\n",
       " u'24': 4,\n",
       " u'240': 0,\n",
       " u'241': 1,\n",
       " u'242': 3,\n",
       " u'243': 0,\n",
       " u'244': 0,\n",
       " u'245': 2,\n",
       " u'246': 1,\n",
       " u'248': 1,\n",
       " u'249': 5,\n",
       " u'25': 0,\n",
       " u'250': 2,\n",
       " u'251': 1,\n",
       " u'252': 2,\n",
       " u'253': 0,\n",
       " u'254': 0,\n",
       " u'255': 1,\n",
       " u'256': 0,\n",
       " u'257': 0,\n",
       " u'258': 3,\n",
       " u'259': 3,\n",
       " u'26': 2,\n",
       " u'260': 5,\n",
       " u'261': 0,\n",
       " u'262': 0,\n",
       " u'263': 2,\n",
       " u'264': 1,\n",
       " u'265': 3,\n",
       " u'266': 10,\n",
       " u'267': 1,\n",
       " u'268': 5,\n",
       " u'269': 1,\n",
       " u'27': 3,\n",
       " u'270': 9,\n",
       " u'271': 5,\n",
       " u'272': 8,\n",
       " u'273': 0,\n",
       " u'274': 6,\n",
       " u'275': 0,\n",
       " u'276': 3,\n",
       " u'277': 2,\n",
       " u'278': 0,\n",
       " u'279': 0,\n",
       " u'28': 2,\n",
       " u'280': 1,\n",
       " u'281': 0,\n",
       " u'282': 2,\n",
       " u'283': 0,\n",
       " u'284': 1,\n",
       " u'285': 0,\n",
       " u'286': 2,\n",
       " u'287': 2,\n",
       " u'288': 0,\n",
       " u'289': 7,\n",
       " u'29': 5,\n",
       " u'290': 3,\n",
       " u'291': 0,\n",
       " u'292': 0,\n",
       " u'293': 4,\n",
       " u'294': 2,\n",
       " u'295': 2,\n",
       " u'296': 0,\n",
       " u'297': 2,\n",
       " u'298': 1,\n",
       " u'299': 0,\n",
       " u'3': 0,\n",
       " u'30': 1,\n",
       " u'300': 0,\n",
       " u'301': 6,\n",
       " u'302': 2,\n",
       " u'303': 4,\n",
       " u'304': 1,\n",
       " u'305': 3,\n",
       " u'306': 0,\n",
       " u'307': 0,\n",
       " u'308': 2,\n",
       " u'309': 0,\n",
       " u'31': 0,\n",
       " u'310': 9,\n",
       " u'311': 0,\n",
       " u'313': 5,\n",
       " u'314': 9,\n",
       " u'315': 3,\n",
       " u'316': 9,\n",
       " u'317': 17,\n",
       " u'318': 0,\n",
       " u'319': 5,\n",
       " u'32': 0,\n",
       " u'320': 3,\n",
       " u'321': 0,\n",
       " u'322': 0,\n",
       " u'323': 2,\n",
       " u'324': 6,\n",
       " u'325': 1,\n",
       " u'326': 7,\n",
       " u'327': 1,\n",
       " u'328': 2,\n",
       " u'329': 4,\n",
       " u'33': 0,\n",
       " u'330': 0,\n",
       " u'331': 2,\n",
       " u'332': 1,\n",
       " u'333': 0,\n",
       " u'334': 0,\n",
       " u'335': 2,\n",
       " u'336': 0,\n",
       " u'337': 0,\n",
       " u'338': 1,\n",
       " u'339': 0,\n",
       " u'34': 1,\n",
       " u'340': 1,\n",
       " u'341': 0,\n",
       " u'342': 0,\n",
       " u'343': 0,\n",
       " u'344': 4,\n",
       " u'345': 0,\n",
       " u'346': 1,\n",
       " u'347': 3,\n",
       " u'348': 0,\n",
       " u'349': 1,\n",
       " u'35': 4,\n",
       " u'350': 0,\n",
       " u'351': 1,\n",
       " u'352': 2,\n",
       " u'353': 1,\n",
       " u'354': 3,\n",
       " u'355': 10,\n",
       " u'356': 0,\n",
       " u'357': 0,\n",
       " u'358': 0,\n",
       " u'359': 9,\n",
       " u'36': 4,\n",
       " u'360': 3,\n",
       " u'361': 10,\n",
       " u'362': 0,\n",
       " u'363': 0,\n",
       " u'364': 0,\n",
       " u'365': 0,\n",
       " u'366': 0,\n",
       " u'367': 1,\n",
       " u'368': 4,\n",
       " u'369': 0,\n",
       " u'37': 5,\n",
       " u'370': 0,\n",
       " u'371': 0,\n",
       " u'372': 1,\n",
       " u'373': 2,\n",
       " u'374': 0,\n",
       " u'375': 1,\n",
       " u'376': 0,\n",
       " u'377': 6,\n",
       " u'378': 0,\n",
       " u'379': 2,\n",
       " u'38': 0,\n",
       " u'380': 0,\n",
       " u'381': 0,\n",
       " u'382': 1,\n",
       " u'383': 0,\n",
       " u'384': 5,\n",
       " u'385': 2,\n",
       " u'386': 0,\n",
       " u'387': 0,\n",
       " u'388': 5,\n",
       " u'389': 0,\n",
       " u'39': 10,\n",
       " u'390': 0,\n",
       " u'391': 0,\n",
       " u'392': 5,\n",
       " u'393': 0,\n",
       " u'394': 2,\n",
       " u'395': 0,\n",
       " u'396': 0,\n",
       " u'397': 0,\n",
       " u'398': 0,\n",
       " u'399': 0,\n",
       " u'4': 0,\n",
       " u'40': 6,\n",
       " u'400': 1,\n",
       " u'401': 0,\n",
       " u'402': 0,\n",
       " u'403': 15,\n",
       " u'404': 2,\n",
       " u'405': 4,\n",
       " u'406': 1,\n",
       " u'407': 4,\n",
       " u'408': 0,\n",
       " u'409': 1,\n",
       " u'41': 1,\n",
       " u'410': 2,\n",
       " u'411': 0,\n",
       " u'412': 0,\n",
       " u'413': 2,\n",
       " u'414': 0,\n",
       " u'415': 0,\n",
       " u'416': 0,\n",
       " u'417': 0,\n",
       " u'418': 0,\n",
       " u'419': 0,\n",
       " u'42': 2,\n",
       " u'420': 2,\n",
       " u'421': 2,\n",
       " u'422': 2,\n",
       " u'423': 2,\n",
       " u'424': 0,\n",
       " u'425': 8,\n",
       " u'426': 0,\n",
       " u'427': 3,\n",
       " u'428': 2,\n",
       " u'429': 0,\n",
       " u'43': 0,\n",
       " u'430': 9,\n",
       " u'431': 0,\n",
       " u'432': 1,\n",
       " u'433': 0,\n",
       " u'434': 5,\n",
       " u'435': 3,\n",
       " u'436': 4,\n",
       " u'437': 0,\n",
       " u'438': 2,\n",
       " u'439': 2,\n",
       " u'44': 0,\n",
       " u'440': 0,\n",
       " u'441': 5,\n",
       " u'442': 4,\n",
       " u'443': 4,\n",
       " u'444': 0,\n",
       " u'445': 0,\n",
       " u'446': 0,\n",
       " u'447': 0,\n",
       " u'449': 0,\n",
       " u'45': 0,\n",
       " u'450': 5,\n",
       " u'451': 1,\n",
       " u'452': 0,\n",
       " u'453': 1,\n",
       " u'454': 1,\n",
       " u'455': 2,\n",
       " u'456': 0,\n",
       " u'457': 2,\n",
       " u'458': 0,\n",
       " u'459': 6,\n",
       " u'46': 0,\n",
       " u'460': 0,\n",
       " u'461': 0,\n",
       " u'462': 4,\n",
       " u'463': 2,\n",
       " u'464': 4,\n",
       " u'465': 1,\n",
       " u'466': 1,\n",
       " u'467': 0,\n",
       " u'468': 1,\n",
       " u'469': 5,\n",
       " u'47': 13,\n",
       " u'471': 1,\n",
       " u'472': 0,\n",
       " u'473': 0,\n",
       " u'474': 5,\n",
       " u'475': 1,\n",
       " u'476': 1,\n",
       " u'477': 1,\n",
       " u'478': 0,\n",
       " u'479': 3,\n",
       " u'48': 12,\n",
       " u'480': 0,\n",
       " u'481': 5,\n",
       " u'482': 1,\n",
       " u'483': 0,\n",
       " u'484': 0,\n",
       " u'485': 2,\n",
       " u'486': 0,\n",
       " u'487': 4,\n",
       " u'488': 0,\n",
       " u'489': 6,\n",
       " u'49': 0,\n",
       " u'490': 0,\n",
       " u'491': 2,\n",
       " u'492': 0,\n",
       " u'493': 4,\n",
       " u'494': 2,\n",
       " u'495': 3,\n",
       " u'496': 8,\n",
       " u'497': 1,\n",
       " u'498': 5,\n",
       " u'499': 2,\n",
       " u'5': 0,\n",
       " u'50': 2,\n",
       " u'500': 1,\n",
       " u'501': 0,\n",
       " u'502': 3,\n",
       " u'503': 0,\n",
       " u'504': 3,\n",
       " u'505': 2,\n",
       " u'506': 0,\n",
       " u'507': 0,\n",
       " u'508': 1,\n",
       " u'509': 1,\n",
       " u'51': 0,\n",
       " u'510': 1,\n",
       " u'511': 3,\n",
       " u'512': 0,\n",
       " u'513': 8,\n",
       " u'514': 0,\n",
       " u'515': 1,\n",
       " u'516': 2,\n",
       " u'517': 3,\n",
       " u'518': 8,\n",
       " u'519': 4,\n",
       " u'52': 0,\n",
       " u'520': 0,\n",
       " u'521': 1,\n",
       " u'522': 0,\n",
       " u'523': 0,\n",
       " u'524': 0,\n",
       " u'525': 0,\n",
       " u'526': 18,\n",
       " u'527': 0,\n",
       " u'528': 3,\n",
       " u'529': 0,\n",
       " u'53': 3,\n",
       " u'530': 7,\n",
       " u'531': 5,\n",
       " u'532': 1,\n",
       " u'533': 3,\n",
       " u'534': 4,\n",
       " u'535': 4,\n",
       " u'536': 0,\n",
       " u'537': 0,\n",
       " u'538': 0,\n",
       " u'539': 0,\n",
       " u'54': 1,\n",
       " u'540': 2,\n",
       " u'541': 0,\n",
       " u'542': 6,\n",
       " u'543': 1,\n",
       " u'544': 6,\n",
       " u'545': 3,\n",
       " u'546': 0,\n",
       " u'547': 0,\n",
       " u'548': 2,\n",
       " u'549': 0,\n",
       " u'55': 4,\n",
       " u'550': 0,\n",
       " u'551': 0,\n",
       " u'552': 5,\n",
       " u'553': 2,\n",
       " u'554': 2,\n",
       " u'555': 1,\n",
       " u'556': 1,\n",
       " u'557': 2,\n",
       " u'558': 0,\n",
       " u'559': 1,\n",
       " u'56': 0,\n",
       " u'560': 0,\n",
       " u'561': 1,\n",
       " u'562': 1,\n",
       " u'563': 0,\n",
       " u'564': 0,\n",
       " u'565': 5,\n",
       " u'566': 0,\n",
       " u'567': 1,\n",
       " u'568': 0,\n",
       " u'569': 13,\n",
       " u'57': 1,\n",
       " u'570': 0,\n",
       " u'571': 0,\n",
       " u'572': 6,\n",
       " u'573': 6,\n",
       " u'574': 0,\n",
       " u'575': 3,\n",
       " u'576': 2,\n",
       " u'577': 0,\n",
       " u'578': 0,\n",
       " u'579': 1,\n",
       " u'58': 3,\n",
       " u'580': 1,\n",
       " u'581': 1,\n",
       " u'582': 0,\n",
       " u'583': 6,\n",
       " u'584': 0,\n",
       " u'585': 3,\n",
       " u'586': 1,\n",
       " u'587': 0,\n",
       " u'588': 0,\n",
       " u'589': 0,\n",
       " u'59': 0,\n",
       " u'590': 0,\n",
       " u'591': 0,\n",
       " u'592': 1,\n",
       " u'593': 0,\n",
       " u'594': 0,\n",
       " u'595': 2,\n",
       " u'596': 4,\n",
       " u'597': 6,\n",
       " u'598': 2,\n",
       " u'599': 1,\n",
       " u'6': 6,\n",
       " u'60': 0,\n",
       " u'600': 0,\n",
       " u'601': 0,\n",
       " u'602': 1,\n",
       " u'603': 1,\n",
       " u'604': 8,\n",
       " u'605': 1,\n",
       " u'606': 2,\n",
       " u'607': 1,\n",
       " u'608': 1,\n",
       " u'609': 0,\n",
       " u'61': 2,\n",
       " u'610': 4,\n",
       " u'611': 1,\n",
       " u'612': 0,\n",
       " u'613': 3,\n",
       " u'614': 1,\n",
       " u'615': 0,\n",
       " u'616': 4,\n",
       " u'617': 0,\n",
       " u'618': 4,\n",
       " u'619': 6,\n",
       " u'62': 1,\n",
       " u'620': 1,\n",
       " u'621': 1,\n",
       " u'622': 1,\n",
       " u'623': 0,\n",
       " u'624': 1,\n",
       " u'625': 0,\n",
       " u'626': 1,\n",
       " u'627': 6,\n",
       " u'628': 1,\n",
       " u'629': 3,\n",
       " u'63': 5,\n",
       " u'630': 2,\n",
       " u'631': 1,\n",
       " u'632': 0,\n",
       " u'633': 36,\n",
       " u'634': 2,\n",
       " u'635': 1,\n",
       " u'636': 0,\n",
       " u'637': 0,\n",
       " u'639': 0,\n",
       " u'64': 6,\n",
       " u'640': 0,\n",
       " u'641': 2,\n",
       " u'642': 2,\n",
       " u'643': 5,\n",
       " u'644': 1,\n",
       " u'645': 2,\n",
       " u'646': 2,\n",
       " u'647': 0,\n",
       " u'648': 0,\n",
       " u'649': 8,\n",
       " u'65': 3,\n",
       " u'650': 1,\n",
       " u'651': 8,\n",
       " u'652': 1,\n",
       " u'653': 8,\n",
       " u'655': 0,\n",
       " u'656': 0,\n",
       " u'657': 0,\n",
       " u'66': 0,\n",
       " u'660': 0,\n",
       " u'661': 0,\n",
       " u'665': 0,\n",
       " u'666': 0,\n",
       " u'667': 0,\n",
       " u'669': 0,\n",
       " u'67': 2,\n",
       " u'670': 5,\n",
       " u'671': 0,\n",
       " u'672': 0,\n",
       " u'673': 0,\n",
       " u'674': 1,\n",
       " u'676': 0,\n",
       " u'678': 0,\n",
       " u'68': 0,\n",
       " u'682': 0,\n",
       " u'686': 0,\n",
       " u'687': 0,\n",
       " u'689': 0,\n",
       " u'69': 0,\n",
       " u'690': 0,\n",
       " u'692': 0,\n",
       " u'693': 0,\n",
       " u'694': 2,\n",
       " u'696': 2,\n",
       " u'697': 0,\n",
       " u'698': 0,\n",
       " u'7': 1,\n",
       " u'70': 2,\n",
       " u'702': 0,\n",
       " u'704': 0,\n",
       " u'705': 0,\n",
       " u'706': 9,\n",
       " u'709': 1,\n",
       " u'71': 0,\n",
       " u'710': 0,\n",
       " u'712': 0,\n",
       " u'713': 0,\n",
       " u'715': 1,\n",
       " u'718': 0,\n",
       " u'719': 0,\n",
       " u'72': 7,\n",
       " u'720': 1,\n",
       " u'722': 1,\n",
       " u'726': 0,\n",
       " u'729': 0,\n",
       " u'73': 0,\n",
       " u'730': 0,\n",
       " u'732': 0,\n",
       " u'735': 0,\n",
       " u'736': 0,\n",
       " u'74': 0,\n",
       " u'742': 1,\n",
       " u'743': 0,\n",
       " u'744': 1,\n",
       " u'746': 3,\n",
       " u'747': 0,\n",
       " u'748': 4,\n",
       " u'75': 0,\n",
       " u'751': 1,\n",
       " u'752': 0,\n",
       " u'753': 0,\n",
       " u'754': 2,\n",
       " u'755': 0,\n",
       " u'756': 0,\n",
       " u'757': 0,\n",
       " u'759': 0,\n",
       " u'76': 0,\n",
       " u'761': 0,\n",
       " u'762': 0,\n",
       " u'764': 0,\n",
       " u'769': 0,\n",
       " u'77': 0,\n",
       " u'771': 1,\n",
       " u'773': 0,\n",
       " u'776': 0,\n",
       " u'777': 1,\n",
       " u'778': 0,\n",
       " u'779': 0,\n",
       " u'78': 0,\n",
       " u'780': 0,\n",
       " u'781': 0,\n",
       " u'782': 2,\n",
       " u'784': 3,\n",
       " u'785': 0,\n",
       " u'786': 0,\n",
       " u'787': 0,\n",
       " u'79': 1,\n",
       " u'791': 1,\n",
       " u'792': 11,\n",
       " u'793': 0,\n",
       " u'794': 3,\n",
       " u'796': 0,\n",
       " u'797': 0,\n",
       " u'798': 4,\n",
       " u'8': 7,\n",
       " u'80': 1,\n",
       " u'800': 1,\n",
       " u'801': 0,\n",
       " u'804': 0,\n",
       " u'805': 0,\n",
       " u'806': 0,\n",
       " u'808': 0,\n",
       " u'81': 2,\n",
       " u'811': 9,\n",
       " u'812': 20,\n",
       " u'816': 0,\n",
       " u'82': 1,\n",
       " u'822': 0,\n",
       " u'823': 0,\n",
       " u'824': 1,\n",
       " u'825': 0,\n",
       " u'828': 2,\n",
       " u'829': 0,\n",
       " u'83': 3,\n",
       " u'831': 0,\n",
       " u'832': 0,\n",
       " u'833': 0,\n",
       " u'834': 0,\n",
       " u'835': 0,\n",
       " u'836': 1,\n",
       " u'839': 0,\n",
       " u'84': 5,\n",
       " u'840': 0,\n",
       " u'843': 5,\n",
       " u'844': 6,\n",
       " u'846': 0,\n",
       " u'85': 1,\n",
       " u'851': 1,\n",
       " u'852': 1,\n",
       " u'853': 0,\n",
       " u'854': 2,\n",
       " u'855': 0,\n",
       " u'856': 0,\n",
       " u'857': 0,\n",
       " u'858': 1,\n",
       " u'859': 0,\n",
       " u'86': 0,\n",
       " u'864': 0,\n",
       " u'866': 0,\n",
       " u'867': 0,\n",
       " u'868': 0,\n",
       " u'87': 1,\n",
       " u'872': 1,\n",
       " u'873': 0,\n",
       " u'874': 0,\n",
       " u'877': 0,\n",
       " u'88': 0,\n",
       " u'880': 0,\n",
       " u'882': 0,\n",
       " u'883': 3,\n",
       " u'885': 27,\n",
       " u'887': 0,\n",
       " u'888': 0,\n",
       " u'89': 1,\n",
       " u'893': 0,\n",
       " u'896': 0,\n",
       " u'897': 0,\n",
       " u'9': 2,\n",
       " u'90': 1,\n",
       " u'900': 0,\n",
       " u'901': 0,\n",
       " u'905': 0,\n",
       " u'906': 0,\n",
       " u'909': 0,\n",
       " u'91': 1,\n",
       " u'912': 0,\n",
       " u'913': 0,\n",
       " u'916': 1,\n",
       " u'918': 0,\n",
       " u'919': 5,\n",
       " u'92': 3,\n",
       " u'920': 0,\n",
       " u'923': 0,\n",
       " u'924': 4,\n",
       " u'927': 1,\n",
       " u'928': 0,\n",
       " u'93': 3,\n",
       " u'931': 0,\n",
       " u'932': 0,\n",
       " u'934': 0,\n",
       " u'937': 0,\n",
       " u'938': 0,\n",
       " u'939': 0,\n",
       " u'94': 0,\n",
       " u'940': 0,\n",
       " u'941': 0,\n",
       " u'946': 1,\n",
       " u'948': 1,\n",
       " u'950': 1,\n",
       " u'952': 1,\n",
       " u'954': 0,\n",
       " u'955': 0,\n",
       " u'956': 0,\n",
       " u'958': 0,\n",
       " u'96': 0,\n",
       " u'965': 2,\n",
       " u'966': 0,\n",
       " u'967': 2,\n",
       " u'969': 0,\n",
       " u'97': 0,\n",
       " u'972': 0,\n",
       " u'973': 1,\n",
       " u'975': 0,\n",
       " u'976': 0,\n",
       " u'977': 0,\n",
       " u'979': 1,\n",
       " u'98': 2,\n",
       " u'983': 0,\n",
       " u'984': 1,\n",
       " u'985': 0,\n",
       " u'986': 3,\n",
       " u'988': 0,\n",
       " u'989': 0,\n",
       " u'99': 2,\n",
       " u'990': 0,\n",
       " u'992': 0}"
      ]
     },
     "execution_count": 41,
     "metadata": {},
     "output_type": "execute_result"
    }
   ],
   "source": [
    "total_lessons_by_account"
   ]
  },
  {
   "cell_type": "code",
   "execution_count": 42,
   "metadata": {
    "scrolled": true
   },
   "outputs": [
    {
     "name": "stdout",
     "output_type": "stream",
     "text": [
      "Mean: 1.636180904522613\n",
      "Standard deviation: 3.002561299829423\n",
      "Minimum: 0\n",
      "Maximum: 36\n"
     ]
    }
   ],
   "source": [
    "describe_data(total_lessons_by_account.values())\n"
   ]
  },
  {
   "cell_type": "markdown",
   "metadata": {},
   "source": [
    "## Number of Visits in First Week"
   ]
  },
  {
   "cell_type": "code",
   "execution_count": 43,
   "metadata": {},
   "outputs": [
    {
     "data": {
      "text/plain": [
       "{'account_key': u'0',\n",
       " 'has_visited': 1,\n",
       " u'lessons_completed': 0,\n",
       " u'num_courses_visited': 1,\n",
       " u'projects_completed': 0,\n",
       " u'total_minutes_visited': 11.6793745,\n",
       " u'utc_date': datetime.datetime(2015, 1, 9, 0, 0)}"
      ]
     },
     "execution_count": 43,
     "metadata": {},
     "output_type": "execute_result"
    }
   ],
   "source": [
    "paid_engagement_in_first_week[0]"
   ]
  },
  {
   "cell_type": "code",
   "execution_count": 44,
   "metadata": {},
   "outputs": [
    {
     "name": "stdout",
     "output_type": "stream",
     "text": [
      "Mean: 2.8673366834170855\n",
      "Standard deviation: 2.2551980029196814\n",
      "Minimum: 0\n",
      "Maximum: 7\n"
     ]
    }
   ],
   "source": [
    "######################################\n",
    "#                 10                 #\n",
    "######################################\n",
    "\n",
    "## Find the mean, standard deviation, minimum, and maximum for the number of\n",
    "## days each student visits the classroom during the first week.\n",
    "\n",
    "# Add has_visited\n",
    "\n",
    "days_visited_by_account = sum_grouped_items(engagement_by_account, 'has_visited')\n",
    "describe_data(days_visited_by_account.values())"
   ]
  },
  {
   "cell_type": "code",
   "execution_count": 45,
   "metadata": {},
   "outputs": [
    {
     "data": {
      "text/plain": [
       "995"
      ]
     },
     "execution_count": 45,
     "metadata": {},
     "output_type": "execute_result"
    }
   ],
   "source": [
    "len(days_visited_by_account)"
   ]
  },
  {
   "cell_type": "markdown",
   "metadata": {},
   "source": [
    "## Splitting out Passing Students"
   ]
  },
  {
   "cell_type": "code",
   "execution_count": 46,
   "metadata": {
    "scrolled": false
   },
   "outputs": [
    {
     "data": {
      "text/plain": [
       "{u'account_key': u'256',\n",
       " u'assigned_rating': u'UNGRADED',\n",
       " u'completion_date': datetime.datetime(2015, 1, 16, 0, 0),\n",
       " u'creation_date': datetime.datetime(2015, 1, 14, 0, 0),\n",
       " u'lesson_key': u'3176718735',\n",
       " u'processing_state': u'EVALUATED'}"
      ]
     },
     "execution_count": 46,
     "metadata": {},
     "output_type": "execute_result"
    }
   ],
   "source": [
    "project_submissions[0]"
   ]
  },
  {
   "cell_type": "code",
   "execution_count": 47,
   "metadata": {},
   "outputs": [],
   "source": [
    "######################################\n",
    "#                 11                 #\n",
    "######################################\n",
    "\n",
    "## Create two lists of engagement data for paid students in the first week.\n",
    "## The first list should contain data for students who eventually pass the\n",
    "## subway project, and the second list should contain data for students\n",
    "## who do not.\n",
    "\n",
    "subway_project_lesson_keys = ['746169184', '3176718735']\n",
    "\n",
    "passing_engagement = []\n",
    "non_passing_engagement = []\n",
    "\n",
    "for engagement in paid_engagement_in_first_week:\n",
    "    passed = False\n",
    "    acc = engagement['account_key']\n",
    "    for submission in [s for s in project_submissions if s['account_key'] == acc \\\n",
    "                       and s['lesson_key'] in subway_project_lesson_keys]:\n",
    "        if submission['assigned_rating'] in ('PASSED', 'DISTINCTION'):\n",
    "            passed = True\n",
    "            break\n",
    "    if passed:\n",
    "        passing_engagement.append(engagement)\n",
    "    else:\n",
    "        non_passing_engagement.append(engagement)\n"
   ]
  },
  {
   "cell_type": "code",
   "execution_count": 48,
   "metadata": {},
   "outputs": [
    {
     "name": "stdout",
     "output_type": "stream",
     "text": [
      "4527\n",
      "2392\n"
     ]
    }
   ],
   "source": [
    "print len(passing_engagement)\n",
    "print len(non_passing_engagement)"
   ]
  },
  {
   "cell_type": "code",
   "execution_count": 49,
   "metadata": {},
   "outputs": [
    {
     "data": {
      "text/plain": [
       "647"
      ]
     },
     "execution_count": 49,
     "metadata": {},
     "output_type": "execute_result"
    }
   ],
   "source": [
    "# N of students who passed in the subway project\n",
    "len(set([eng['account_key'] for eng in passing_engagement]))"
   ]
  },
  {
   "cell_type": "markdown",
   "metadata": {},
   "source": [
    "## Comparing the Two Student Groups"
   ]
  },
  {
   "cell_type": "code",
   "execution_count": 50,
   "metadata": {},
   "outputs": [],
   "source": [
    "passing_students = set([eng['account_key'] for eng in passing_engagement])\n",
    "non_passing_students = set([eng['account_key'] for eng in non_passing_engagement])"
   ]
  },
  {
   "cell_type": "code",
   "execution_count": 67,
   "metadata": {},
   "outputs": [
    {
     "name": "stdout",
     "output_type": "stream",
     "text": [
      "## First week ##\n",
      "\n",
      "Minutes:\n",
      "\n",
      "Students who pass:\n",
      "Mean: 394.58604648350865\n",
      "Standard deviation: 448.4995193265521\n",
      "Minimum: 0.0\n",
      "Maximum: 3564.7332644989997\n",
      "\n",
      "Students who don't:\n",
      "Mean: 143.32647426675584\n",
      "Standard deviation: 269.5386190114951\n",
      "Minimum: 0.0\n",
      "Maximum: 1768.5227493319999\n"
     ]
    },
    {
     "data": {
      "image/png": "[encoded data removed]",
      "text/plain": [
       "<matplotlib.figure.Figure at 0x14592c50>"
      ]
     },
     "metadata": {},
     "output_type": "display_data"
    }
   ],
   "source": [
    "######################################\n",
    "#                 12                 #\n",
    "######################################\n",
    "\n",
    "## Compute some metrics you're interested in and see how they differ for\n",
    "## students who pass the subway project vs. students who don't. A good\n",
    "## starting point would be the metrics we looked at earlier (minutes spent\n",
    "## in the classroom, lessons completed, and days visited).\n",
    "\n",
    "engagement_by_passing_students = group_by_key(passing_engagement, 'account_key')\n",
    "engagement_by_non_passing_students = group_by_key(non_passing_engagement, 'account_key')\n",
    "\n",
    "minutes_of_passing_students = sum_grouped_items(engagement_by_passing_students, 'total_minutes_visited').values()\n",
    "minutes_of_non_passing_students = sum_grouped_items(engagement_by_non_passing_students, 'total_minutes_visited').values()\n",
    "\n",
    "print '## First week ##\\n\\nMinutes:'\n",
    "\n",
    "print '\\nStudents who pass:'\n",
    "describe_data(minutes_of_passing_students)\n",
    "print '\\nStudents who don\\'t:'\n",
    "describe_data(minutes_of_non_passing_students)"
   ]
  },
  {
   "cell_type": "code",
   "execution_count": 68,
   "metadata": {},
   "outputs": [
    {
     "name": "stdout",
     "output_type": "stream",
     "text": [
      "Lessons completed:\n",
      "\n",
      "Students who pass:\n",
      "Mean: 2.052550231839258\n",
      "Standard deviation: 3.1422270555779344\n",
      "Minimum: 0\n",
      "Maximum: 36\n",
      "\n",
      "Students who don't:\n",
      "Mean: 0.8620689655172413\n",
      "Standard deviation: 2.5491599418312028\n",
      "Minimum: 0\n",
      "Maximum: 27\n"
     ]
    },
    {
     "data": {
      "image/png": "[encoded data removed]",
      "text/plain": [
       "<matplotlib.figure.Figure at 0x140b4908>"
      ]
     },
     "metadata": {},
     "output_type": "display_data"
    }
   ],
   "source": [
    "lessons_of_passing_students = sum_grouped_items(engagement_by_passing_students, 'lessons_completed').values()\n",
    "lessons_of_non_passing_students = sum_grouped_items(engagement_by_non_passing_students, 'lessons_completed').values()\n",
    "\n",
    "print 'Lessons completed:'\n",
    "\n",
    "print '\\nStudents who pass:'\n",
    "describe_data(lessons_of_passing_students)\n",
    "print '\\nStudents who don\\'t:'\n",
    "describe_data(lessons_of_non_passing_students)"
   ]
  },
  {
   "cell_type": "code",
   "execution_count": 72,
   "metadata": {},
   "outputs": [
    {
     "name": "stdout",
     "output_type": "stream",
     "text": [
      "Days visiting courses:\n",
      "\n",
      "Students who pass:\n",
      "Mean: 3.384853168469861\n",
      "Standard deviation: 2.2588214709184595\n",
      "Minimum: 0\n",
      "Maximum: 7\n",
      "\n",
      "Students who don't:\n",
      "Mean: 1.9051724137931034\n",
      "Standard deviation: 1.9057314413619049\n",
      "Minimum: 0\n",
      "Maximum: 7\n"
     ]
    },
    {
     "data": {
      "image/png": "[encoded data removed]",
      "text/plain": [
       "<matplotlib.figure.Figure at 0x1658b7f0>"
      ]
     },
     "metadata": {},
     "output_type": "display_data"
    }
   ],
   "source": [
    "visits_of_passing_students = sum_grouped_items(engagement_by_passing_students, 'has_visited').values()\n",
    "visits_of_non_passing_students = sum_grouped_items(engagement_by_non_passing_students, 'has_visited').values()\n",
    "\n",
    "print 'Days visiting courses:'\n",
    "\n",
    "print '\\nStudents who pass:'\n",
    "describe_data(visits_of_passing_students)\n",
    "print '\\nStudents who don\\'t:'\n",
    "describe_data(visits_of_non_passing_students)"
   ]
  },
  {
   "cell_type": "markdown",
   "metadata": {},
   "source": [
    "## Making Histograms"
   ]
  },
  {
   "cell_type": "code",
   "execution_count": 21,
   "metadata": {},
   "outputs": [
    {
     "data": {
      "text/plain": [
       "(array([3., 2., 2., 1.]),\n",
       " array([1.  , 1.75, 2.5 , 3.25, 4.  ]),\n",
       " <a list of 4 Patch objects>)"
      ]
     },
     "execution_count": 21,
     "metadata": {},
     "output_type": "execute_result"
    },
    {
     "data": {
      "image/png": "[encoded data removed]",
      "text/plain": [
       "<Figure size 432x288 with 1 Axes>"
      ]
     },
     "metadata": {},
     "output_type": "display_data"
    }
   ],
   "source": [
    "%matplotlib inline\n",
    "import matplotlib.pyplot as plt\n",
    "import seaborn as sns\n",
    "\n",
    "data = [1, 2, 1, 3, 3, 1, 4, 2]\n",
    "\n",
    "sns.set(palette=\"muted\")\n",
    "plt.title(\"E isso\")\n",
    "plt.xlabel(\"X label\")\n",
    "plt.ylabel(\"Y label\")\n",
    "plt.hist(data, bins=len(set(data)), color='magenta')"
   ]
  },
  {
   "cell_type": "code",
   "execution_count": 25,
   "metadata": {},
   "outputs": [
    {
     "data": {
      "image/png": "[encoded data removed]",
      "text/plain": [
       "<Figure size 432x72 with 1 Axes>"
      ]
     },
     "metadata": {},
     "output_type": "display_data"
    }
   ],
   "source": [
    "sns.palplot(sns.color_palette(\"BuGn\"))"
   ]
  },
  {
   "cell_type": "code",
   "execution_count": 75,
   "metadata": {},
   "outputs": [],
   "source": [
    "######################################\n",
    "#                 13                 #\n",
    "######################################\n",
    "\n",
    "## Make histograms of the three metrics we looked at earlier for both\n",
    "## students who passed the subway project and students who didn't. You\n",
    "## might also want to make histograms of any other metrics you examined.\n",
    "\n",
    "# DONE\n"
   ]
  },
  {
   "cell_type": "markdown",
   "metadata": {},
   "source": [
    "## Improving Plots and Sharing Findings"
   ]
  },
  {
   "cell_type": "code",
   "execution_count": null,
   "metadata": {
    "collapsed": true
   },
   "outputs": [],
   "source": [
    "######################################\n",
    "#                 14                 #\n",
    "######################################\n",
    "\n",
    "## Make a more polished version of at least one of your visualizations\n",
    "## from earlier. Try importing the seaborn library to make the visualization\n",
    "## look better, adding axis labels and a title, and changing one or more\n",
    "## arguments to the hist() function."
   ]
  }
 ],
 "metadata": {
  "kernelspec": {
   "display_name": "Python 2",
   "language": "python",
   "name": "python2"
  },
  "language_info": {
   "codemirror_mode": {
    "name": "ipython",
    "version": 2
   },
   "file_extension": ".py",
   "mimetype": "text/x-python",
   "name": "python",
   "nbconvert_exporter": "python",
   "pygments_lexer": "ipython2",
   "version": "2.7.14"
  }
 },
 "nbformat": 4,
 "nbformat_minor": 1
}
